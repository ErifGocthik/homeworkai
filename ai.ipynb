{
 "cells": [
  {
   "cell_type": "code",
   "execution_count": 35,
   "id": "295d556d",
   "metadata": {},
   "outputs": [
    {
     "data": {
      "text/plain": [
       "\"class Engine(KnowledgeEngine):\\n    @DefFacts()\\n    def _initial_action(self):\\n        yield PlantClass(input('т или д '))\\n\\n    @Rule(PlantClass('д'))\\n    def set_leaf_fact(self):\\n        if input('х или л ') == 'л':\\n            self.declare(Leaf())\\n    \\n    @Rule(Leaf())\\n    def get_leaf_answer(self):\\n        print('Дерево лиственное')\\n        \\n    @Rule(NOT(Leaf()))\\n    def set_not_leaf_branches_needles(self):\\n        if input('ветки высоко? д/н ') == 'д':\\n            self.declare(HighBranches())\\n        if input('иголки острые? д/н ') == 'д':\\n            self.declare(SharpNeedles())\\n    \\n    @Rule(AND(HighBranches(), SharpNeedles()))\\n    def get_pine_tree_answer(self):\\n        print('сосна')\\n        \\nprod = Engine()\\nprod.reset()\\nprod.run()\""
      ]
     },
     "execution_count": 35,
     "metadata": {},
     "output_type": "execute_result"
    }
   ],
   "source": [
    "'''class Engine(KnowledgeEngine):\n",
    "    @DefFacts()\n",
    "    def _initial_action(self):\n",
    "        yield PlantClass(input('т или д '))\n",
    "\n",
    "    @Rule(PlantClass('д'))\n",
    "    def set_leaf_fact(self):\n",
    "        if input('х или л ') == 'л':\n",
    "            self.declare(Leaf())\n",
    "    \n",
    "    @Rule(Leaf())\n",
    "    def get_leaf_answer(self):\n",
    "        print('Дерево лиственное')\n",
    "        \n",
    "    @Rule(NOT(Leaf()))\n",
    "    def set_not_leaf_branches_needles(self):\n",
    "        if input('ветки высоко? д/н ') == 'д':\n",
    "            self.declare(HighBranches())\n",
    "        if input('иголки острые? д/н ') == 'д':\n",
    "            self.declare(SharpNeedles())\n",
    "    \n",
    "    @Rule(AND(HighBranches(), SharpNeedles()))\n",
    "    def get_pine_tree_answer(self):\n",
    "        print('сосна')\n",
    "        \n",
    "prod = Engine()\n",
    "prod.reset()\n",
    "prod.run()'''"
   ]
  },
  {
   "cell_type": "code",
   "execution_count": 36,
   "id": "5297b602",
   "metadata": {},
   "outputs": [
    {
     "data": {
      "text/plain": [
       "'Кормление молоком\\nМлекопитающее\\nПерья\\nПтица\\nКрылья\\nДлинные ноги\\nДлинный клюв\\n=Цапля\\nДолгое вынашивание плода (относится к млекопитающим)\\nЧешуя\\nВодная среда обитания\\n=Рыба\\nЗемная среда обитания\\nПресмыкающееся\\nУтолщение около головы\\nСредняя длина\\n=Кобра\\nЕст траву\\nТравоядное\\nКопыта раздвоены\\nПарнокопытное\\nЕсть рога\\nКороткая шерсть\\n=Бык\\nДлинная шерсть\\nНебольшой размер\\nХорошая прыгучесть\\n=Козёл\\n'"
      ]
     },
     "execution_count": 36,
     "metadata": {},
     "output_type": "execute_result"
    }
   ],
   "source": [
    "'''Кормление молоком\n",
    "Млекопитающее\n",
    "Перья\n",
    "Птица\n",
    "Крылья\n",
    "Длинные ноги\n",
    "Длинный клюв\n",
    "=Цапля\n",
    "Долгое вынашивание плода (относится к млекопитающим)\n",
    "                                                                        Чешуя\n",
    "                                                                        Водная среда обитания\n",
    "=Рыба\n",
    "                                                                        Земная среда обитания\n",
    "Пресмыкающееся\n",
    "Утолщение около головы\n",
    "Средняя длина\n",
    "=Кобра\n",
    "Ест траву\n",
    "Травоядное\n",
    "Копыта раздвоены\n",
    "Парнокопытное\n",
    "Есть рога\n",
    "Короткая шерсть\n",
    "=Бык\n",
    "Длинная шерсть\n",
    "Небольшой размер\n",
    "Хорошая прыгучесть\n",
    "=Козёл\n",
    "'''"
   ]
  },
  {
   "cell_type": "code",
   "execution_count": 37,
   "id": "b880ba9d",
   "metadata": {},
   "outputs": [],
   "source": [
    "from experta import *"
   ]
  },
  {
   "cell_type": "code",
   "execution_count": 69,
   "id": "3b50d74a",
   "metadata": {},
   "outputs": [],
   "source": [
    "class HabitatClass(Fact):\n",
    "    pass\n",
    "\n",
    "class Gestation(Fact):\n",
    "    pass\n",
    "\n",
    "class Scales(Fact):\n",
    "    pass\n",
    "\n",
    "class Thickening(Fact):\n",
    "    pass\n",
    "\n",
    "class BodyLength(Fact):\n",
    "    pass\n",
    "\n",
    "class WingsFeathers(Fact):\n",
    "    pass\n",
    "\n",
    "class Hooves(Fact):\n",
    "    pass\n",
    "\n",
    "class Dhooves(Fact):\n",
    "    pass\n",
    "\n",
    "class Wool(Fact):\n",
    "    pass\n",
    "\n",
    "class Horns(Fact):\n",
    "    pass\n",
    "\n",
    "class Jumping(Fact):\n",
    "    pass\n",
    "\n",
    "class Herbivore(Fact):\n",
    "    pass\n",
    "\n",
    "class LongLegs(Fact):\n",
    "    pass\n",
    "\n",
    "class LongBeak(Fact):\n",
    "    pass\n",
    "\n",
    "class Size(Fact):\n",
    "    pass"
   ]
  },
  {
   "cell_type": "code",
   "execution_count": null,
   "id": "7bc0fa3c",
   "metadata": {},
   "outputs": [
    {
     "name": "stdout",
     "output_type": "stream",
     "text": [
      "Это млекопитающееся? (да/нет) да\n",
      "среда обитания? (водная/земная) водная\n",
      "есть чешуя? (да/нет) да\n",
      "есть перья и крылья? (да/нет) нет\n",
      "ноги длинные? (да/нет) нет\n",
      "клюв длинный? (да/нет) нет\n",
      "есть ли копыта? (да/нет) нет\n",
      "копыта раздвоены? (да/нет) нет\n",
      "длинная шерсть? (да/нет) нет\n",
      "есть рога? (да/нет) нет\n"
     ]
    }
   ],
   "source": [
    "class Engine(KnowledgeEngine):\n",
    "    @DefFacts()\n",
    "    def _initial_action(self):\n",
    "        yield Gestation(input('Это млекопитающееся? (да/нет) '))\n",
    "    \n",
    "    @Rule(Gestation(\"да\"))\n",
    "    def get_gest_fact(self):\n",
    "        if input('среда обитания? (водная/земная) ') == 'земная':\n",
    "            self.declare(HabitatClass())\n",
    "        if input('есть чешуя? (да/нет) ') == 'да':\n",
    "            self.declare(Scales())\n",
    "        if input('есть перья и крылья? (да/нет) ') == 'да':\n",
    "            self.declare(WingsFeathers())\n",
    "        if input('ноги длинные? (да/нет) ') == 'да':\n",
    "            self.declare(LongLegs())\n",
    "        if input('клюв длинный? (да/нет) ') == 'да':\n",
    "            self.declare(LongBeak())\n",
    "        if input('есть ли копыта? (да/нет) ') == 'да':\n",
    "            self.declare(Hooves())\n",
    "        if input('копыта раздвоены? (да/нет) ') == 'да':\n",
    "            self.declare(Dhooves())\n",
    "        if input('длинная шерсть? (да/нет) ') == 'да':\n",
    "            self.declare(Wool())\n",
    "        if input('есть рога? (да/нет) ') == 'да':\n",
    "            self.delcare(Horns())\n",
    "        if input('это хорошо прыгает? (да/нет) ') == 'да':\n",
    "            self.declare(Jumping())\n",
    "        if input('это травоядное? (да/нет) ') == 'да':\n",
    "            self.declare(Herbivore())\n",
    "        if input('это большого размеры? (да/нет) ') == 'да':\n",
    "            self.declare(Size())\n",
    "            \n",
    "    @Rule(Gestation('нет'))\n",
    "    def get_not_gest_fact(self):\n",
    "        if input('среда обитания? (водная/земная) ') == 'земная':\n",
    "            self.declare(HabitatClass())\n",
    "        if input('есть утолщение около головы? (да/нет) ') == 'да':\n",
    "            self.declare(Thickening())\n",
    "        if input('Тело среднего размера? (да/нет) ') == 'да':\n",
    "            self.declare(BodyLength())\n",
    "        \n",
    "    \n",
    "    @Rule(AND(HabitatClass(), WingsFeathers(), LongLegs(), LongBeak(), Size(), Jumping()))\n",
    "    def get_bird_fact(self):\n",
    "        print('это Цапля')\n",
    "    \n",
    "    @Rule(AND(Scales(), Jumping()))\n",
    "    def get_fish_fact(self):\n",
    "        print('это Рыба')\n",
    "        \n",
    "    @Rule(AND(Hooves(), Dhooves(), Wool(), Jumping(), Herbivore(), Horns()))\n",
    "    def get_goat_fact(self):\n",
    "        print('это Козел')\n",
    "    \n",
    "    @Rule(AND(Hooves(), Dhooves(), Herbivore(), Horns(), Size()))\n",
    "    def get_bull_fact(self):\n",
    "        print('это Бык')\n",
    "    \n",
    "    @Rule(AND(Thickening(), BodyLength(), HabitatClass(), Jumping()))\n",
    "    def get_cobra_fact(self):\n",
    "        print('это Кобра')\n",
    "        \n",
    "prod = Engine()\n",
    "prod.reset()\n",
    "prod.run()"
   ]
  },
  {
   "cell_type": "code",
   "execution_count": null,
   "id": "695896d1",
   "metadata": {},
   "outputs": [],
   "source": []
  }
 ],
 "metadata": {
  "kernelspec": {
   "display_name": "Python 3 (ipykernel)",
   "language": "python",
   "name": "python3"
  },
  "language_info": {
   "codemirror_mode": {
    "name": "ipython",
    "version": 3
   },
   "file_extension": ".py",
   "mimetype": "text/x-python",
   "name": "python",
   "nbconvert_exporter": "python",
   "pygments_lexer": "ipython3",
   "version": "3.11.1"
  }
 },
 "nbformat": 4,
 "nbformat_minor": 5
}
